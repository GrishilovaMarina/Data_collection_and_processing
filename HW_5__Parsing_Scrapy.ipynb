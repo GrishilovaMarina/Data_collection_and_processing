{
  "nbformat": 4,
  "nbformat_minor": 0,
  "metadata": {
    "colab": {
      "provenance": [],
      "collapsed_sections": []
    },
    "kernelspec": {
      "name": "python3",
      "display_name": "Python 3"
    },
    "language_info": {
      "name": "python"
    }
  },
  "cells": [
    {
      "cell_type": "markdown",
      "source": [
        "#1) Доработать паука в имеющемся проекте, чтобы он формировал item по структуре:\n",
        "###*Наименование вакансии\n",
        "###*Зарплата от\n",
        "###*Зарплата до\n",
        "###*Ссылку на саму вакансию\n",
        "###И складывал все записи в БД(любую)\n",
        "\n",
        "#2) Создать в имеющемся проекте второго паука по сбору вакансий с сайта superjob. Паук должен формировать item'ы по аналогичной структуре и складывать данные также в БД"
      ],
      "metadata": {
        "id": "rkYPyUWBqshL"
      }
    },
    {
      "cell_type": "code",
      "execution_count": 1,
      "metadata": {
        "id": "g2b_O3YgiaXW",
        "colab": {
          "base_uri": "https://localhost:8080/"
        },
        "outputId": "621c2ca8-b60c-49b1-8b90-e3793a99d646"
      },
      "outputs": [
        {
          "output_type": "stream",
          "name": "stdout",
          "text": [
            "Archive:  scrapy.zip\n",
            "   creating: scrapy/project_parser_hh/\n",
            " extracting: scrapy/project_parser_hh/__init__.py  \n",
            "  inflating: scrapy/project_parser_hh/items.py  \n",
            "  inflating: scrapy/project_parser_hh/middlewares.py  \n",
            "  inflating: scrapy/project_parser_hh/pipelines.py  \n",
            "  inflating: scrapy/project_parser_hh/runner.py  \n",
            "  inflating: scrapy/project_parser_hh/settings.py  \n",
            "   creating: scrapy/project_parser_hh/spiders/\n",
            "  inflating: scrapy/project_parser_hh/spiders/__init__.py  \n",
            "  inflating: scrapy/project_parser_hh/spiders/hh_ru.py  \n",
            "  inflating: scrapy/scrapy.cfg       \n"
          ]
        }
      ],
      "source": [
        "!unzip scrapy.zip"
      ]
    },
    {
      "cell_type": "code",
      "source": [
        "cd scrapy"
      ],
      "metadata": {
        "id": "JMxqhwkXjaZu",
        "colab": {
          "base_uri": "https://localhost:8080/"
        },
        "outputId": "4d213ae5-495a-4002-ca6e-175127db31c1"
      },
      "execution_count": 2,
      "outputs": [
        {
          "output_type": "stream",
          "name": "stdout",
          "text": [
            "/content/scrapy\n"
          ]
        }
      ]
    },
    {
      "cell_type": "code",
      "source": [
        "!apt install mongodb > log"
      ],
      "metadata": {
        "id": "gHUEgdTfjmBB",
        "colab": {
          "base_uri": "https://localhost:8080/"
        },
        "outputId": "4e85fe6c-a5f5-4c31-de9d-f1f1a9199701"
      },
      "execution_count": 3,
      "outputs": [
        {
          "output_type": "stream",
          "name": "stdout",
          "text": [
            "\n",
            "WARNING: apt does not have a stable CLI interface. Use with caution in scripts.\n",
            "\n"
          ]
        }
      ]
    },
    {
      "cell_type": "code",
      "source": [
        "!service mongodb start\n"
      ],
      "metadata": {
        "id": "pu-5pPVyjsFH",
        "colab": {
          "base_uri": "https://localhost:8080/"
        },
        "outputId": "0dff6ded-b5a2-4596-867c-1f70332005ac"
      },
      "execution_count": 4,
      "outputs": [
        {
          "output_type": "stream",
          "name": "stdout",
          "text": [
            " * Starting database mongodb\n",
            "   ...done.\n"
          ]
        }
      ]
    },
    {
      "cell_type": "code",
      "source": [
        "!pip install pymongo"
      ],
      "metadata": {
        "colab": {
          "base_uri": "https://localhost:8080/"
        },
        "id": "S0Iw-Ie7jzeL",
        "outputId": "6ddffb40-13c0-47c3-e3ff-a65b9a04ccad"
      },
      "execution_count": 5,
      "outputs": [
        {
          "output_type": "stream",
          "name": "stdout",
          "text": [
            "Looking in indexes: https://pypi.org/simple, https://us-python.pkg.dev/colab-wheels/public/simple/\n",
            "Requirement already satisfied: pymongo in /usr/local/lib/python3.7/dist-packages (4.2.0)\n"
          ]
        }
      ]
    },
    {
      "cell_type": "code",
      "source": [
        "!pip install scrapy"
      ],
      "metadata": {
        "id": "-6wEWfFij5y8"
      },
      "execution_count": null,
      "outputs": []
    },
    {
      "cell_type": "code",
      "source": [
        "!scrapy crawl hh_ru"
      ],
      "metadata": {
        "id": "RREk-xiWkAL_"
      },
      "execution_count": null,
      "outputs": []
    },
    {
      "cell_type": "code",
      "source": [
        "!scrapy genspider rabota_by rabota.by"
      ],
      "metadata": {
        "colab": {
          "base_uri": "https://localhost:8080/"
        },
        "id": "IcU2e8MR8yiu",
        "outputId": "d5ee7654-e1fe-43de-88c4-6fbd6851c4d3"
      },
      "execution_count": 8,
      "outputs": [
        {
          "output_type": "stream",
          "name": "stdout",
          "text": [
            "Created spider 'rabota_by' using template 'basic' in module:\n",
            "  project_parser_hh.spiders.rabota_by\n"
          ]
        }
      ]
    },
    {
      "cell_type": "code",
      "source": [
        "!scrapy crawl rabota_by"
      ],
      "metadata": {
        "id": "BRjYmcb9_9nP"
      },
      "execution_count": null,
      "outputs": []
    },
    {
      "cell_type": "code",
      "source": [
        "from pymongo import MongoClient"
      ],
      "metadata": {
        "id": "u9GvMXM7kDj-"
      },
      "execution_count": 10,
      "outputs": []
    },
    {
      "cell_type": "code",
      "source": [
        "client = MongoClient()"
      ],
      "metadata": {
        "id": "TGeTSwPlkLuF"
      },
      "execution_count": 11,
      "outputs": []
    },
    {
      "cell_type": "code",
      "source": [
        "print(client.list_database_names())"
      ],
      "metadata": {
        "colab": {
          "base_uri": "https://localhost:8080/"
        },
        "id": "erXCqxlvkQN5",
        "outputId": "5275db7c-e261-4ab7-9a7d-f3b6e294c7fa"
      },
      "execution_count": 12,
      "outputs": [
        {
          "output_type": "stream",
          "name": "stdout",
          "text": [
            "['admin', 'config', 'db_vacancies', 'local']\n"
          ]
        }
      ]
    },
    {
      "cell_type": "code",
      "source": [
        "db = client.db_vacancies\n",
        "print(db.list_collection_names())"
      ],
      "metadata": {
        "colab": {
          "base_uri": "https://localhost:8080/"
        },
        "id": "ry-Ue6Sylmtv",
        "outputId": "5e8614bf-7d01-4a5f-b29a-8598631f9e4c"
      },
      "execution_count": 13,
      "outputs": [
        {
          "output_type": "stream",
          "name": "stdout",
          "text": [
            "['rabota_by', 'hh_ru']\n"
          ]
        }
      ]
    },
    {
      "cell_type": "code",
      "source": [
        "list_vacancies = []\n",
        "for collections in db.list_collection_names():\n",
        "  for vac in list(db[collections].find()):\n",
        "    list_vacancies.append(vac)"
      ],
      "metadata": {
        "id": "733dfGvn3xZi"
      },
      "execution_count": 14,
      "outputs": []
    },
    {
      "cell_type": "code",
      "source": [
        "print(f'всего записано {len(list_vacancies)} вакансий') "
      ],
      "metadata": {
        "colab": {
          "base_uri": "https://localhost:8080/"
        },
        "id": "LfIVvEGXl9y1",
        "outputId": "a8921054-9ea5-4545-8d0c-0a2a439936e3"
      },
      "execution_count": 16,
      "outputs": [
        {
          "output_type": "stream",
          "name": "stdout",
          "text": [
            "всего записано 439 вакансий\n"
          ]
        }
      ]
    },
    {
      "cell_type": "code",
      "source": [
        "list_vacancies[76:85] "
      ],
      "metadata": {
        "id": "L8SDwJqLnfcR",
        "colab": {
          "base_uri": "https://localhost:8080/"
        },
        "outputId": "3e699b1f-95af-4245-adfd-90b6f1fd8ca0"
      },
      "execution_count": 24,
      "outputs": [
        {
          "output_type": "execute_result",
          "data": {
            "text/plain": [
              "[{'_id': ObjectId('6329794f30b7fde05f966ed2'),\n",
              "  'name': 'Инженер-энергетик (расчётчик)',\n",
              "  'salary_upto': 'не указана',\n",
              "  'salary_from': 'не указана',\n",
              "  'url': 'https://rabota.by/vacancy/68885660?from=vacancy_search_list&hhtmFrom=vacancy_search_list&query=python'},\n",
              " {'_id': ObjectId('6329794f30b7fde05f966ed3'),\n",
              "  'name': 'Экономист отдела кредитных рисков управления риск-менеджмента',\n",
              "  'salary_upto': 'не указана',\n",
              "  'salary_from': 'не указана',\n",
              "  'url': 'https://rabota.by/vacancy/68616162?from=vacancy_search_list&hhtmFrom=vacancy_search_list&query=python'},\n",
              " {'_id': ObjectId('6329795130b7fde05f966ed4'),\n",
              "  'name': 'Инженер-системотехник (облачные платформы)',\n",
              "  'salary_upto': 'не указана',\n",
              "  'salary_from': 'не указана',\n",
              "  'url': 'https://rabota.by/vacancy/67921349?from=vacancy_search_list&hhtmFrom=vacancy_search_list&query=python'},\n",
              " {'_id': ObjectId('6329795130b7fde05f966ed5'),\n",
              "  'name': 'Ведущий ITSM разработчик',\n",
              "  'salary_upto': 'не указана',\n",
              "  'salary_from': 'не указана',\n",
              "  'url': 'https://rabota.by/vacancy/69908157?from=vacancy_search_list&hhtmFrom=vacancy_search_list&query=python'},\n",
              " {'_id': ObjectId('6329795130b7fde05f966ed6'),\n",
              "  'name': 'Junior BI/Data Analyst',\n",
              "  'salary_upto': 'не указана',\n",
              "  'salary_from': 'не указана',\n",
              "  'url': 'https://rabota.by/vacancy/69486379?from=vacancy_search_list&hhtmFrom=vacancy_search_list&query=python'},\n",
              " {'_id': ObjectId('6329795230b7fde05f966ed7'),\n",
              "  'name': 'Middle Data Engineer',\n",
              "  'salary_upto': 'не указана',\n",
              "  'salary_from': 'не указана',\n",
              "  'url': 'https://rabota.by/vacancy/69491554?from=vacancy_search_list&hhtmFrom=vacancy_search_list&query=python'},\n",
              " {'_id': ObjectId('6329795230b7fde05f966ed8'),\n",
              "  'name': 'Junior Data Engineer',\n",
              "  'salary_upto': 'не указана',\n",
              "  'salary_from': 'не указана',\n",
              "  'url': 'https://rabota.by/vacancy/69491616?from=vacancy_search_list&hhtmFrom=vacancy_search_list&query=python'},\n",
              " {'_id': ObjectId('6329795330b7fde05f966ed9'),\n",
              "  'name': 'Аналитик (автозаказ)',\n",
              "  'salary_upto': 'не указана',\n",
              "  'salary_from': '3 000',\n",
              "  'url': 'https://rabota.by/vacancy/69522717?from=vacancy_search_list&hhtmFrom=vacancy_search_list&query=python'},\n",
              " {'_id': ObjectId('6329795330b7fde05f966eda'),\n",
              "  'name': 'Аналитик',\n",
              "  'salary_upto': 'не указана',\n",
              "  'salary_from': '3 000',\n",
              "  'url': 'https://rabota.by/vacancy/69524895?from=vacancy_search_list&hhtmFrom=vacancy_search_list&query=python'}]"
            ]
          },
          "metadata": {},
          "execution_count": 24
        }
      ]
    }
  ]
}