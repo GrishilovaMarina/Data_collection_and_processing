{
  "nbformat": 4,
  "nbformat_minor": 0,
  "metadata": {
    "colab": {
      "provenance": [],
      "collapsed_sections": []
    },
    "kernelspec": {
      "name": "python3",
      "display_name": "Python 3"
    },
    "language_info": {
      "name": "python"
    }
  },
  "cells": [
    {
      "cell_type": "markdown",
      "source": [
        "#Развернуть у себя на компьютере/виртуальной машине/хостинге MongoDB и реализовать функцию, которая будет добавлять только новые вакансии/продукты в вашу базу.\n"
      ],
      "metadata": {
        "id": "eyuulJxiYZ-Q"
      }
    },
    {
      "cell_type": "code",
      "source": [
        "!apt install mongodb"
      ],
      "metadata": {
        "id": "g1JmrO5Xztmi",
        "colab": {
          "base_uri": "https://localhost:8080/"
        },
        "outputId": "b44135d7-6299-46fc-9051-ee653352f4d9"
      },
      "execution_count": 1,
      "outputs": [
        {
          "output_type": "stream",
          "name": "stdout",
          "text": [
            "Reading package lists... Done\n",
            "Building dependency tree       \n",
            "Reading state information... Done\n",
            "The following package was automatically installed and is no longer required:\n",
            "  libnvidia-common-460\n",
            "Use 'apt autoremove' to remove it.\n",
            "The following additional packages will be installed:\n",
            "  libpcap0.8 libstemmer0d libyaml-cpp0.5v5 mongo-tools mongodb-clients\n",
            "  mongodb-server mongodb-server-core\n",
            "The following NEW packages will be installed:\n",
            "  libpcap0.8 libstemmer0d libyaml-cpp0.5v5 mongo-tools mongodb mongodb-clients\n",
            "  mongodb-server mongodb-server-core\n",
            "0 upgraded, 8 newly installed, 0 to remove and 32 not upgraded.\n",
            "Need to get 53.1 MB of archives.\n",
            "After this operation, 215 MB of additional disk space will be used.\n",
            "Get:1 http://archive.ubuntu.com/ubuntu bionic-updates/main amd64 libpcap0.8 amd64 1.8.1-6ubuntu1.18.04.2 [118 kB]\n",
            "Get:2 http://archive.ubuntu.com/ubuntu bionic/main amd64 libstemmer0d amd64 0+svn585-1build1 [62.5 kB]\n",
            "Get:3 http://archive.ubuntu.com/ubuntu bionic/universe amd64 libyaml-cpp0.5v5 amd64 0.5.2-4ubuntu1 [150 kB]\n",
            "Get:4 http://archive.ubuntu.com/ubuntu bionic/universe amd64 mongo-tools amd64 3.6.3-0ubuntu1 [12.3 MB]\n",
            "Get:5 http://archive.ubuntu.com/ubuntu bionic-updates/universe amd64 mongodb-clients amd64 1:3.6.3-0ubuntu1.4 [20.2 MB]\n",
            "Get:6 http://archive.ubuntu.com/ubuntu bionic-updates/universe amd64 mongodb-server-core amd64 1:3.6.3-0ubuntu1.4 [20.3 MB]\n",
            "Get:7 http://archive.ubuntu.com/ubuntu bionic-updates/universe amd64 mongodb-server all 1:3.6.3-0ubuntu1.4 [12.6 kB]\n",
            "Get:8 http://archive.ubuntu.com/ubuntu bionic-updates/universe amd64 mongodb amd64 1:3.6.3-0ubuntu1.4 [10.2 kB]\n",
            "Fetched 53.1 MB in 4s (13.2 MB/s)\n",
            "Selecting previously unselected package libpcap0.8:amd64.\n",
            "(Reading database ... 155685 files and directories currently installed.)\n",
            "Preparing to unpack .../0-libpcap0.8_1.8.1-6ubuntu1.18.04.2_amd64.deb ...\n",
            "Unpacking libpcap0.8:amd64 (1.8.1-6ubuntu1.18.04.2) ...\n",
            "Selecting previously unselected package libstemmer0d:amd64.\n",
            "Preparing to unpack .../1-libstemmer0d_0+svn585-1build1_amd64.deb ...\n",
            "Unpacking libstemmer0d:amd64 (0+svn585-1build1) ...\n",
            "Selecting previously unselected package libyaml-cpp0.5v5:amd64.\n",
            "Preparing to unpack .../2-libyaml-cpp0.5v5_0.5.2-4ubuntu1_amd64.deb ...\n",
            "Unpacking libyaml-cpp0.5v5:amd64 (0.5.2-4ubuntu1) ...\n",
            "Selecting previously unselected package mongo-tools.\n",
            "Preparing to unpack .../3-mongo-tools_3.6.3-0ubuntu1_amd64.deb ...\n",
            "Unpacking mongo-tools (3.6.3-0ubuntu1) ...\n",
            "Selecting previously unselected package mongodb-clients.\n",
            "Preparing to unpack .../4-mongodb-clients_1%3a3.6.3-0ubuntu1.4_amd64.deb ...\n",
            "Unpacking mongodb-clients (1:3.6.3-0ubuntu1.4) ...\n",
            "Selecting previously unselected package mongodb-server-core.\n",
            "Preparing to unpack .../5-mongodb-server-core_1%3a3.6.3-0ubuntu1.4_amd64.deb ...\n",
            "Unpacking mongodb-server-core (1:3.6.3-0ubuntu1.4) ...\n",
            "Selecting previously unselected package mongodb-server.\n",
            "Preparing to unpack .../6-mongodb-server_1%3a3.6.3-0ubuntu1.4_all.deb ...\n",
            "Unpacking mongodb-server (1:3.6.3-0ubuntu1.4) ...\n",
            "Selecting previously unselected package mongodb.\n",
            "Preparing to unpack .../7-mongodb_1%3a3.6.3-0ubuntu1.4_amd64.deb ...\n",
            "Unpacking mongodb (1:3.6.3-0ubuntu1.4) ...\n",
            "Setting up libstemmer0d:amd64 (0+svn585-1build1) ...\n",
            "Setting up libyaml-cpp0.5v5:amd64 (0.5.2-4ubuntu1) ...\n",
            "Setting up mongodb-server-core (1:3.6.3-0ubuntu1.4) ...\n",
            "Setting up libpcap0.8:amd64 (1.8.1-6ubuntu1.18.04.2) ...\n",
            "Setting up mongodb-clients (1:3.6.3-0ubuntu1.4) ...\n",
            "Setting up mongodb-server (1:3.6.3-0ubuntu1.4) ...\n",
            "invoke-rc.d: could not determine current runlevel\n",
            "invoke-rc.d: policy-rc.d denied execution of start.\n",
            "Created symlink /etc/systemd/system/multi-user.target.wants/mongodb.service → /lib/systemd/system/mongodb.service.\n",
            "Setting up mongo-tools (3.6.3-0ubuntu1) ...\n",
            "Setting up mongodb (1:3.6.3-0ubuntu1.4) ...\n",
            "Processing triggers for systemd (237-3ubuntu10.53) ...\n",
            "Processing triggers for man-db (2.8.3-2ubuntu0.1) ...\n",
            "Processing triggers for libc-bin (2.27-3ubuntu1.5) ...\n"
          ]
        }
      ]
    },
    {
      "cell_type": "code",
      "source": [
        "!service mongodb start"
      ],
      "metadata": {
        "id": "Kx9XlRZRzVPZ",
        "colab": {
          "base_uri": "https://localhost:8080/"
        },
        "outputId": "9976f2a9-f2f4-408b-bfe5-fe78d6bbfca1"
      },
      "execution_count": 2,
      "outputs": [
        {
          "output_type": "stream",
          "name": "stdout",
          "text": [
            " * Starting database mongodb\n",
            "   ...done.\n"
          ]
        }
      ]
    },
    {
      "cell_type": "code",
      "source": [
        "from pymongo import MongoClient"
      ],
      "metadata": {
        "id": "ZljBHnhAG5fs"
      },
      "execution_count": 3,
      "outputs": []
    },
    {
      "cell_type": "code",
      "source": [
        "client = MongoClient('mongodb://127.0.0.1:27017/')"
      ],
      "metadata": {
        "id": "2fpzKqr4HCcP"
      },
      "execution_count": 4,
      "outputs": []
    },
    {
      "cell_type": "code",
      "source": [
        "my_db = client['base_vacancies_analyst']\n",
        "collection_vacancies = my_db['vacancies']"
      ],
      "metadata": {
        "id": "YfvPZcCxH2Cy"
      },
      "execution_count": 5,
      "outputs": []
    },
    {
      "cell_type": "markdown",
      "source": [
        "##Заполним базу данных из файла ДЗ №3"
      ],
      "metadata": {
        "id": "cnu90WAv2pAr"
      }
    },
    {
      "cell_type": "code",
      "source": [
        "import json\n",
        "with open('dict_vacancy.json', \"r\") as json_file:\n",
        "    data_file = json.load(json_file)"
      ],
      "metadata": {
        "id": "0M_PMyvnPrwW"
      },
      "execution_count": 6,
      "outputs": []
    },
    {
      "cell_type": "code",
      "source": [
        "for vacancy in data_file:\n",
        "  document = data_file[vacancy]\n",
        "  my_db.vacancies.insert_one(document)"
      ],
      "metadata": {
        "id": "gVRv4zguQlMY"
      },
      "execution_count": 25,
      "outputs": []
    },
    {
      "cell_type": "code",
      "source": [
        "client.list_database_names()"
      ],
      "metadata": {
        "id": "zUv8GCJOIFgl",
        "colab": {
          "base_uri": "https://localhost:8080/"
        },
        "outputId": "e10d913f-4d1c-4890-aae9-ef921ea057fc"
      },
      "execution_count": 8,
      "outputs": [
        {
          "output_type": "execute_result",
          "data": {
            "text/plain": [
              "['admin', 'base_vacancies_analyst', 'local']"
            ]
          },
          "metadata": {},
          "execution_count": 8
        }
      ]
    },
    {
      "cell_type": "code",
      "source": [
        "for coll in my_db.list_collection_names():\n",
        "    print(coll)"
      ],
      "metadata": {
        "id": "mMYXbG4jU0A4",
        "colab": {
          "base_uri": "https://localhost:8080/"
        },
        "outputId": "b86794e2-256e-4628-f5ae-78f7fd1cc89e"
      },
      "execution_count": 24,
      "outputs": [
        {
          "output_type": "stream",
          "name": "stdout",
          "text": [
            "vacancies\n"
          ]
        }
      ]
    },
    {
      "cell_type": "code",
      "source": [
        "num_vacancies = my_db.vacancies.count_documents({})\n",
        "print(num_vacancies)"
      ],
      "metadata": {
        "id": "HMKo05krWyLC",
        "colab": {
          "base_uri": "https://localhost:8080/"
        },
        "outputId": "a5d3055c-086e-433d-be2c-a1c8d35863a3"
      },
      "execution_count": 26,
      "outputs": [
        {
          "output_type": "stream",
          "name": "stdout",
          "text": [
            "100\n"
          ]
        }
      ]
    },
    {
      "cell_type": "code",
      "source": [
        "from bs4 import BeautifulSoup as bs\n",
        "import requests\n",
        "from time import sleep\n",
        "from pprint import pprint"
      ],
      "metadata": {
        "id": "k2VLThiyRYFD"
      },
      "execution_count": 12,
      "outputs": []
    },
    {
      "cell_type": "markdown",
      "source": [
        "##Реализуем функцию добавления новых вакансий в базу данных путём парсинга первой страницы сайта hh.ru"
      ],
      "metadata": {
        "id": "2U8Z95vA_Lj2"
      }
    },
    {
      "cell_type": "code",
      "source": [
        "def add_vacancies(url, headers):\n",
        "  response = requests.get(url = url, headers = headers)\n",
        "  print(response.status_code)\n",
        "  dom = bs(response.text, 'html.parser')\n",
        "  tag_vacancy = dom.find_all('div', class_= 'vacancy-serp-item-body__main-info')\n",
        "  print(f'считано - {len(tag_vacancy)} вакансий')\n",
        "  site_name = 'hh.ru'\n",
        "  number_new_vacancies = 0\n",
        "  for vacancy in tag_vacancy:\n",
        "    vacancy_link =  vacancy.find('a', attrs={'class': 'serp-item__title', 'data-qa': 'serp-item__title'}).get('href')\n",
        "    if my_db.vacancies.count_documents({'ссылка на вакансию': vacancy_link}) == 0:\n",
        "      vacancy_title = vacancy.find('a', attrs={'class': 'serp-item__title', 'data-qa': 'serp-item__title'}).string\n",
        "      if vacancy.find('span', attrs={'class': 'bloko-header-section-3', 'data-qa': 'vacancy-serp__vacancy-compensation'}) == None:\n",
        "        min_compensation, max_compensation, currency = None, None, None\n",
        "      else:\n",
        "        compensation = vacancy.find('span', attrs={'class': 'bloko-header-section-3', 'data-qa': 'vacancy-serp__vacancy-compensation'}).text.replace(' ', '').split()\n",
        "        if compensation[0] == 'от':\n",
        "          min_compensation = int(compensation[1])\n",
        "          max_compensation = None\n",
        "          currency = compensation[2]\n",
        "        elif compensation[0] == 'до':\n",
        "          min_compensation = None\n",
        "          max_compensation = int(compensation[1])\n",
        "          currency = compensation[2]\n",
        "        else:\n",
        "          min_compensation = int(compensation[0])\n",
        "          max_compensation = int(compensation[2])\n",
        "          currency = compensation[3]\n",
        "      my_db.vacancies.insert_one({\n",
        "          'должность': vacancy_title,\n",
        "          'минимальная зарплата' : min_compensation,\n",
        "          'максимальная зарплата' : max_compensation,\n",
        "          'валюта' : currency,\n",
        "          'ссылка на вакансию' : vacancy_link,\n",
        "          'сайт' : site_name\n",
        "           })\n",
        "      number_new_vacancies +=1\n",
        "  print(f'добавлено {number_new_vacancies} новых вакансий')  \n",
        "      "
      ],
      "metadata": {
        "id": "9YXJgAG3sIKK"
      },
      "execution_count": 13,
      "outputs": []
    },
    {
      "cell_type": "code",
      "source": [
        "add_vacancies('https://hh.ru/vacancies/analitik-dannyh?page=num_page', {\n",
        "    'User-Agent':\t'Mozilla/5.0 (Windows NT 6.1; Win64; x64) AppleWebKit/537.36 (KHTML, like Gecko) Chrome/105.0.0.0 Safari/537.36',\n",
        "})"
      ],
      "metadata": {
        "id": "Q2lHy4WL278d",
        "colab": {
          "base_uri": "https://localhost:8080/"
        },
        "outputId": "b13a89ea-0e53-48a9-9055-5d8749592872"
      },
      "execution_count": 27,
      "outputs": [
        {
          "output_type": "stream",
          "name": "stdout",
          "text": [
            "200\n",
            "считано - 50 вакансий\n",
            "добавлено 30 новых вакансий\n"
          ]
        }
      ]
    },
    {
      "cell_type": "code",
      "source": [
        "num_vacancies = my_db.vacancies.count_documents({})\n",
        "print(num_vacancies)"
      ],
      "metadata": {
        "id": "oN5-szv55V2x",
        "colab": {
          "base_uri": "https://localhost:8080/"
        },
        "outputId": "8c636b94-52d9-4649-8d7b-7bb62d68f313"
      },
      "execution_count": 28,
      "outputs": [
        {
          "output_type": "stream",
          "name": "stdout",
          "text": [
            "130\n"
          ]
        }
      ]
    },
    {
      "cell_type": "markdown",
      "source": [
        "#* Написать функцию, которая производит поиск и выводит на экран вакансии с заработной платой больше введённой суммы (необходимо анализировать оба поля зарплаты)."
      ],
      "metadata": {
        "id": "iyF9Y86AY6pX"
      }
    },
    {
      "cell_type": "code",
      "source": [
        "for doc in my_db.vacancies.find({'$and': [{'минимальная зарплата':{'$gt': 200000}}, {'максимальная зарплата':{'$gt': 200000}}]}):\n",
        "  pprint(doc)"
      ],
      "metadata": {
        "id": "ZXGz2LhJY8lZ",
        "colab": {
          "base_uri": "https://localhost:8080/"
        },
        "outputId": "51b0456e-731a-4398-8b1e-265f96f1d8c7"
      },
      "execution_count": 29,
      "outputs": [
        {
          "output_type": "stream",
          "name": "stdout",
          "text": [
            "{'_id': ObjectId('63209047eb05959038e17249'),\n",
            " 'валюта': 'руб.',\n",
            " 'должность': 'Системный аналитик | Systems Analyst',\n",
            " 'максимальная зарплата': 370000,\n",
            " 'минимальная зарплата': 250000,\n",
            " 'сайт': 'hh.ru',\n",
            " 'ссылка на вакансию': 'https://hh.ru/vacancy/69481665?query=%D0%B0%D0%BD%D0%B0%D0%BB%D0%B8%D1%82%D0%B8%D0%BA%20%D0%B4%D0%B0%D0%BD%D0%BD%D1%8B%D1%85'}\n",
            "{'_id': ObjectId('63209047eb05959038e17258'),\n",
            " 'валюта': 'руб.',\n",
            " 'должность': 'Ведущий аналитик',\n",
            " 'максимальная зарплата': 500000,\n",
            " 'минимальная зарплата': 250000,\n",
            " 'сайт': 'hh.ru',\n",
            " 'ссылка на вакансию': 'https://hh.ru/vacancy/67702365?query=%D0%B0%D0%BD%D0%B0%D0%BB%D0%B8%D1%82%D0%B8%D0%BA%20%D0%B4%D0%B0%D0%BD%D0%BD%D1%8B%D1%85'}\n",
            "{'_id': ObjectId('63209047eb05959038e1725c'),\n",
            " 'валюта': 'руб.',\n",
            " 'должность': 'Системный аналитик',\n",
            " 'максимальная зарплата': 250000,\n",
            " 'минимальная зарплата': 235000,\n",
            " 'сайт': 'hh.ru',\n",
            " 'ссылка на вакансию': 'https://hh.ru/vacancy/69569042?query=%D0%B0%D0%BD%D0%B0%D0%BB%D0%B8%D1%82%D0%B8%D0%BA%20%D0%B4%D0%B0%D0%BD%D0%BD%D1%8B%D1%85'}\n",
            "{'_id': ObjectId('63209047eb05959038e1727b'),\n",
            " 'валюта': 'руб.',\n",
            " 'должность': 'Системный аналитик | Systems Analyst',\n",
            " 'максимальная зарплата': 370000,\n",
            " 'минимальная зарплата': 250000,\n",
            " 'сайт': 'hh.ru',\n",
            " 'ссылка на вакансию': 'https://hh.ru/vacancy/69481665?query=%D0%B0%D0%BD%D0%B0%D0%BB%D0%B8%D1%82%D0%B8%D0%BA%20%D0%B4%D0%B0%D0%BD%D0%BD%D1%8B%D1%85'}\n",
            "{'_id': ObjectId('63209047eb05959038e1728a'),\n",
            " 'валюта': 'руб.',\n",
            " 'должность': 'Ведущий аналитик',\n",
            " 'максимальная зарплата': 500000,\n",
            " 'минимальная зарплата': 250000,\n",
            " 'сайт': 'hh.ru',\n",
            " 'ссылка на вакансию': 'https://hh.ru/vacancy/67702365?query=%D0%B0%D0%BD%D0%B0%D0%BB%D0%B8%D1%82%D0%B8%D0%BA%20%D0%B4%D0%B0%D0%BD%D0%BD%D1%8B%D1%85'}\n",
            "{'_id': ObjectId('63209047eb05959038e1728e'),\n",
            " 'валюта': 'руб.',\n",
            " 'должность': 'Системный аналитик',\n",
            " 'максимальная зарплата': 250000,\n",
            " 'минимальная зарплата': 235000,\n",
            " 'сайт': 'hh.ru',\n",
            " 'ссылка на вакансию': 'https://hh.ru/vacancy/69569042?query=%D0%B0%D0%BD%D0%B0%D0%BB%D0%B8%D1%82%D0%B8%D0%BA%20%D0%B4%D0%B0%D0%BD%D0%BD%D1%8B%D1%85'}\n"
          ]
        }
      ]
    },
    {
      "cell_type": "code",
      "source": [
        "my_db.vacancies.count_documents({'$and': [{'минимальная зарплата':{'$gt': 150000}}, {'максимальная зарплата':{'$gt': 200000}}]})"
      ],
      "metadata": {
        "id": "1LjVcAuhbu_G",
        "colab": {
          "base_uri": "https://localhost:8080/"
        },
        "outputId": "9462b77f-ae69-4ef9-fdcb-b9d2dd31251e"
      },
      "execution_count": 30,
      "outputs": [
        {
          "output_type": "execute_result",
          "data": {
            "text/plain": [
              "6"
            ]
          },
          "metadata": {},
          "execution_count": 30
        }
      ]
    },
    {
      "cell_type": "markdown",
      "source": [
        "#* Любая аналитика. Например matching ваканский с разных площадок\n",
        "### Выведем все вакансии без указания сумм вознаграждений."
      ],
      "metadata": {
        "id": "G0VKJku9bXq5"
      }
    },
    {
      "cell_type": "code",
      "source": [
        "for doc in my_db.vacancies.find({'$nor': [{'минимальная зарплата':None}, {'максимальная зарплата':None}]}):\n",
        "  pprint(doc)"
      ],
      "metadata": {
        "id": "ACbKXhMUbZTq",
        "colab": {
          "base_uri": "https://localhost:8080/"
        },
        "outputId": "76b17af7-8ae0-4473-862c-8617888d5745"
      },
      "execution_count": 31,
      "outputs": [
        {
          "output_type": "stream",
          "name": "stdout",
          "text": [
            "{'_id': ObjectId('63209047eb05959038e17241'),\n",
            " 'валюта': 'руб.',\n",
            " 'должность': 'Аналитик данных / Data Analyst',\n",
            " 'максимальная зарплата': 300000,\n",
            " 'минимальная зарплата': 150000,\n",
            " 'сайт': 'hh.ru',\n",
            " 'ссылка на вакансию': 'https://hh.ru/vacancy/69360960?query=%D0%B0%D0%BD%D0%B0%D0%BB%D0%B8%D1%82%D0%B8%D0%BA%20%D0%B4%D0%B0%D0%BD%D0%BD%D1%8B%D1%85'}\n",
            "{'_id': ObjectId('63209047eb05959038e17242'),\n",
            " 'валюта': 'руб.',\n",
            " 'должность': 'Аналитик данных / Data Analyst',\n",
            " 'максимальная зарплата': 90000,\n",
            " 'минимальная зарплата': 60000,\n",
            " 'сайт': 'hh.ru',\n",
            " 'ссылка на вакансию': 'https://hh.ru/vacancy/69647954?query=%D0%B0%D0%BD%D0%B0%D0%BB%D0%B8%D1%82%D0%B8%D0%BA%20%D0%B4%D0%B0%D0%BD%D0%BD%D1%8B%D1%85'}\n",
            "{'_id': ObjectId('63209047eb05959038e17243'),\n",
            " 'валюта': 'руб.',\n",
            " 'должность': 'Аналитик BI',\n",
            " 'максимальная зарплата': 200000,\n",
            " 'минимальная зарплата': 160000,\n",
            " 'сайт': 'hh.ru',\n",
            " 'ссылка на вакансию': 'https://hh.ru/vacancy/69592342?query=%D0%B0%D0%BD%D0%B0%D0%BB%D0%B8%D1%82%D0%B8%D0%BA%20%D0%B4%D0%B0%D0%BD%D0%BD%D1%8B%D1%85'}\n",
            "{'_id': ObjectId('63209047eb05959038e17244'),\n",
            " 'валюта': 'руб.',\n",
            " 'должность': 'Аналитик MS SQL',\n",
            " 'максимальная зарплата': 300000,\n",
            " 'минимальная зарплата': 100000,\n",
            " 'сайт': 'hh.ru',\n",
            " 'ссылка на вакансию': 'https://hh.ru/vacancy/69126898?query=%D0%B0%D0%BD%D0%B0%D0%BB%D0%B8%D1%82%D0%B8%D0%BA%20%D0%B4%D0%B0%D0%BD%D0%BD%D1%8B%D1%85'}\n",
            "{'_id': ObjectId('63209047eb05959038e17245'),\n",
            " 'валюта': 'руб.',\n",
            " 'должность': 'Аналитик',\n",
            " 'максимальная зарплата': 160000,\n",
            " 'минимальная зарплата': 140000,\n",
            " 'сайт': 'hh.ru',\n",
            " 'ссылка на вакансию': 'https://hh.ru/vacancy/69589543?query=%D0%B0%D0%BD%D0%B0%D0%BB%D0%B8%D1%82%D0%B8%D0%BA%20%D0%B4%D0%B0%D0%BD%D0%BD%D1%8B%D1%85'}\n",
            "{'_id': ObjectId('63209047eb05959038e17249'),\n",
            " 'валюта': 'руб.',\n",
            " 'должность': 'Системный аналитик | Systems Analyst',\n",
            " 'максимальная зарплата': 370000,\n",
            " 'минимальная зарплата': 250000,\n",
            " 'сайт': 'hh.ru',\n",
            " 'ссылка на вакансию': 'https://hh.ru/vacancy/69481665?query=%D0%B0%D0%BD%D0%B0%D0%BB%D0%B8%D1%82%D0%B8%D0%BA%20%D0%B4%D0%B0%D0%BD%D0%BD%D1%8B%D1%85'}\n",
            "{'_id': ObjectId('63209047eb05959038e1724b'),\n",
            " 'валюта': 'руб.',\n",
            " 'должность': 'BI-аналитик (Power BI)',\n",
            " 'максимальная зарплата': 150000,\n",
            " 'минимальная зарплата': 100000,\n",
            " 'сайт': 'hh.ru',\n",
            " 'ссылка на вакансию': 'https://hh.ru/vacancy/69161496?query=%D0%B0%D0%BD%D0%B0%D0%BB%D0%B8%D1%82%D0%B8%D0%BA%20%D0%B4%D0%B0%D0%BD%D0%BD%D1%8B%D1%85'}\n",
            "{'_id': ObjectId('63209047eb05959038e1724c'),\n",
            " 'валюта': 'руб.',\n",
            " 'должность': 'Системный аналитик/Бизнес-аналитик (стажер)',\n",
            " 'максимальная зарплата': 90000,\n",
            " 'минимальная зарплата': 60000,\n",
            " 'сайт': 'hh.ru',\n",
            " 'ссылка на вакансию': 'https://hh.ru/vacancy/69266016?query=%D0%B0%D0%BD%D0%B0%D0%BB%D0%B8%D1%82%D0%B8%D0%BA%20%D0%B4%D0%B0%D0%BD%D0%BD%D1%8B%D1%85'}\n",
            "{'_id': ObjectId('63209047eb05959038e1724f'),\n",
            " 'валюта': 'руб.',\n",
            " 'должность': 'Аналитик (Data Analyst)',\n",
            " 'максимальная зарплата': 150000,\n",
            " 'минимальная зарплата': 60000,\n",
            " 'сайт': 'hh.ru',\n",
            " 'ссылка на вакансию': 'https://hh.ru/vacancy/68828412?query=%D0%B0%D0%BD%D0%B0%D0%BB%D0%B8%D1%82%D0%B8%D0%BA%20%D0%B4%D0%B0%D0%BD%D0%BD%D1%8B%D1%85'}\n",
            "{'_id': ObjectId('63209047eb05959038e17251'),\n",
            " 'валюта': 'руб.',\n",
            " 'должность': 'Junior Analyst (Младший Аналитик)',\n",
            " 'максимальная зарплата': 75000,\n",
            " 'минимальная зарплата': 30000,\n",
            " 'сайт': 'hh.ru',\n",
            " 'ссылка на вакансию': 'https://hh.ru/vacancy/69250992?query=%D0%B0%D0%BD%D0%B0%D0%BB%D0%B8%D1%82%D0%B8%D0%BA%20%D0%B4%D0%B0%D0%BD%D0%BD%D1%8B%D1%85'}\n",
            "{'_id': ObjectId('63209047eb05959038e17257'),\n",
            " 'валюта': 'руб.',\n",
            " 'должность': 'Стажер-аналитик',\n",
            " 'максимальная зарплата': 45000,\n",
            " 'минимальная зарплата': 45000,\n",
            " 'сайт': 'hh.ru',\n",
            " 'ссылка на вакансию': 'https://hh.ru/vacancy/69636839?query=%D0%B0%D0%BD%D0%B0%D0%BB%D0%B8%D1%82%D0%B8%D0%BA%20%D0%B4%D0%B0%D0%BD%D0%BD%D1%8B%D1%85'}\n",
            "{'_id': ObjectId('63209047eb05959038e17258'),\n",
            " 'валюта': 'руб.',\n",
            " 'должность': 'Ведущий аналитик',\n",
            " 'максимальная зарплата': 500000,\n",
            " 'минимальная зарплата': 250000,\n",
            " 'сайт': 'hh.ru',\n",
            " 'ссылка на вакансию': 'https://hh.ru/vacancy/67702365?query=%D0%B0%D0%BD%D0%B0%D0%BB%D0%B8%D1%82%D0%B8%D0%BA%20%D0%B4%D0%B0%D0%BD%D0%BD%D1%8B%D1%85'}\n",
            "{'_id': ObjectId('63209047eb05959038e1725c'),\n",
            " 'валюта': 'руб.',\n",
            " 'должность': 'Системный аналитик',\n",
            " 'максимальная зарплата': 250000,\n",
            " 'минимальная зарплата': 235000,\n",
            " 'сайт': 'hh.ru',\n",
            " 'ссылка на вакансию': 'https://hh.ru/vacancy/69569042?query=%D0%B0%D0%BD%D0%B0%D0%BB%D0%B8%D1%82%D0%B8%D0%BA%20%D0%B4%D0%B0%D0%BD%D0%BD%D1%8B%D1%85'}\n",
            "{'_id': ObjectId('63209047eb05959038e17273'),\n",
            " 'валюта': 'руб.',\n",
            " 'должность': 'Аналитик данных / Data Analyst',\n",
            " 'максимальная зарплата': 300000,\n",
            " 'минимальная зарплата': 150000,\n",
            " 'сайт': 'hh.ru',\n",
            " 'ссылка на вакансию': 'https://hh.ru/vacancy/69360960?query=%D0%B0%D0%BD%D0%B0%D0%BB%D0%B8%D1%82%D0%B8%D0%BA%20%D0%B4%D0%B0%D0%BD%D0%BD%D1%8B%D1%85'}\n",
            "{'_id': ObjectId('63209047eb05959038e17274'),\n",
            " 'валюта': 'руб.',\n",
            " 'должность': 'Аналитик данных / Data Analyst',\n",
            " 'максимальная зарплата': 90000,\n",
            " 'минимальная зарплата': 60000,\n",
            " 'сайт': 'hh.ru',\n",
            " 'ссылка на вакансию': 'https://hh.ru/vacancy/69647954?query=%D0%B0%D0%BD%D0%B0%D0%BB%D0%B8%D1%82%D0%B8%D0%BA%20%D0%B4%D0%B0%D0%BD%D0%BD%D1%8B%D1%85'}\n",
            "{'_id': ObjectId('63209047eb05959038e17275'),\n",
            " 'валюта': 'руб.',\n",
            " 'должность': 'Аналитик BI',\n",
            " 'максимальная зарплата': 200000,\n",
            " 'минимальная зарплата': 160000,\n",
            " 'сайт': 'hh.ru',\n",
            " 'ссылка на вакансию': 'https://hh.ru/vacancy/69592342?query=%D0%B0%D0%BD%D0%B0%D0%BB%D0%B8%D1%82%D0%B8%D0%BA%20%D0%B4%D0%B0%D0%BD%D0%BD%D1%8B%D1%85'}\n",
            "{'_id': ObjectId('63209047eb05959038e17276'),\n",
            " 'валюта': 'руб.',\n",
            " 'должность': 'Аналитик MS SQL',\n",
            " 'максимальная зарплата': 300000,\n",
            " 'минимальная зарплата': 100000,\n",
            " 'сайт': 'hh.ru',\n",
            " 'ссылка на вакансию': 'https://hh.ru/vacancy/69126898?query=%D0%B0%D0%BD%D0%B0%D0%BB%D0%B8%D1%82%D0%B8%D0%BA%20%D0%B4%D0%B0%D0%BD%D0%BD%D1%8B%D1%85'}\n",
            "{'_id': ObjectId('63209047eb05959038e17277'),\n",
            " 'валюта': 'руб.',\n",
            " 'должность': 'Аналитик',\n",
            " 'максимальная зарплата': 160000,\n",
            " 'минимальная зарплата': 140000,\n",
            " 'сайт': 'hh.ru',\n",
            " 'ссылка на вакансию': 'https://hh.ru/vacancy/69589543?query=%D0%B0%D0%BD%D0%B0%D0%BB%D0%B8%D1%82%D0%B8%D0%BA%20%D0%B4%D0%B0%D0%BD%D0%BD%D1%8B%D1%85'}\n",
            "{'_id': ObjectId('63209047eb05959038e1727b'),\n",
            " 'валюта': 'руб.',\n",
            " 'должность': 'Системный аналитик | Systems Analyst',\n",
            " 'максимальная зарплата': 370000,\n",
            " 'минимальная зарплата': 250000,\n",
            " 'сайт': 'hh.ru',\n",
            " 'ссылка на вакансию': 'https://hh.ru/vacancy/69481665?query=%D0%B0%D0%BD%D0%B0%D0%BB%D0%B8%D1%82%D0%B8%D0%BA%20%D0%B4%D0%B0%D0%BD%D0%BD%D1%8B%D1%85'}\n",
            "{'_id': ObjectId('63209047eb05959038e1727d'),\n",
            " 'валюта': 'руб.',\n",
            " 'должность': 'BI-аналитик (Power BI)',\n",
            " 'максимальная зарплата': 150000,\n",
            " 'минимальная зарплата': 100000,\n",
            " 'сайт': 'hh.ru',\n",
            " 'ссылка на вакансию': 'https://hh.ru/vacancy/69161496?query=%D0%B0%D0%BD%D0%B0%D0%BB%D0%B8%D1%82%D0%B8%D0%BA%20%D0%B4%D0%B0%D0%BD%D0%BD%D1%8B%D1%85'}\n",
            "{'_id': ObjectId('63209047eb05959038e1727e'),\n",
            " 'валюта': 'руб.',\n",
            " 'должность': 'Системный аналитик/Бизнес-аналитик (стажер)',\n",
            " 'максимальная зарплата': 90000,\n",
            " 'минимальная зарплата': 60000,\n",
            " 'сайт': 'hh.ru',\n",
            " 'ссылка на вакансию': 'https://hh.ru/vacancy/69266016?query=%D0%B0%D0%BD%D0%B0%D0%BB%D0%B8%D1%82%D0%B8%D0%BA%20%D0%B4%D0%B0%D0%BD%D0%BD%D1%8B%D1%85'}\n",
            "{'_id': ObjectId('63209047eb05959038e17281'),\n",
            " 'валюта': 'руб.',\n",
            " 'должность': 'Аналитик (Data Analyst)',\n",
            " 'максимальная зарплата': 150000,\n",
            " 'минимальная зарплата': 60000,\n",
            " 'сайт': 'hh.ru',\n",
            " 'ссылка на вакансию': 'https://hh.ru/vacancy/68828412?query=%D0%B0%D0%BD%D0%B0%D0%BB%D0%B8%D1%82%D0%B8%D0%BA%20%D0%B4%D0%B0%D0%BD%D0%BD%D1%8B%D1%85'}\n",
            "{'_id': ObjectId('63209047eb05959038e17283'),\n",
            " 'валюта': 'руб.',\n",
            " 'должность': 'Junior Analyst (Младший Аналитик)',\n",
            " 'максимальная зарплата': 75000,\n",
            " 'минимальная зарплата': 30000,\n",
            " 'сайт': 'hh.ru',\n",
            " 'ссылка на вакансию': 'https://hh.ru/vacancy/69250992?query=%D0%B0%D0%BD%D0%B0%D0%BB%D0%B8%D1%82%D0%B8%D0%BA%20%D0%B4%D0%B0%D0%BD%D0%BD%D1%8B%D1%85'}\n",
            "{'_id': ObjectId('63209047eb05959038e17289'),\n",
            " 'валюта': 'руб.',\n",
            " 'должность': 'Стажер-аналитик',\n",
            " 'максимальная зарплата': 45000,\n",
            " 'минимальная зарплата': 45000,\n",
            " 'сайт': 'hh.ru',\n",
            " 'ссылка на вакансию': 'https://hh.ru/vacancy/69636839?query=%D0%B0%D0%BD%D0%B0%D0%BB%D0%B8%D1%82%D0%B8%D0%BA%20%D0%B4%D0%B0%D0%BD%D0%BD%D1%8B%D1%85'}\n",
            "{'_id': ObjectId('63209047eb05959038e1728a'),\n",
            " 'валюта': 'руб.',\n",
            " 'должность': 'Ведущий аналитик',\n",
            " 'максимальная зарплата': 500000,\n",
            " 'минимальная зарплата': 250000,\n",
            " 'сайт': 'hh.ru',\n",
            " 'ссылка на вакансию': 'https://hh.ru/vacancy/67702365?query=%D0%B0%D0%BD%D0%B0%D0%BB%D0%B8%D1%82%D0%B8%D0%BA%20%D0%B4%D0%B0%D0%BD%D0%BD%D1%8B%D1%85'}\n",
            "{'_id': ObjectId('63209047eb05959038e1728e'),\n",
            " 'валюта': 'руб.',\n",
            " 'должность': 'Системный аналитик',\n",
            " 'максимальная зарплата': 250000,\n",
            " 'минимальная зарплата': 235000,\n",
            " 'сайт': 'hh.ru',\n",
            " 'ссылка на вакансию': 'https://hh.ru/vacancy/69569042?query=%D0%B0%D0%BD%D0%B0%D0%BB%D0%B8%D1%82%D0%B8%D0%BA%20%D0%B4%D0%B0%D0%BD%D0%BD%D1%8B%D1%85'}\n",
            "{'_id': ObjectId('632090a9eb05959038e172d1'),\n",
            " 'валюта': 'руб.',\n",
            " 'должность': 'Бизнес-аналитик (аналитика бизнес-процессов)',\n",
            " 'максимальная зарплата': 230000,\n",
            " 'минимальная зарплата': 150000,\n",
            " 'сайт': 'hh.ru',\n",
            " 'ссылка на вакансию': 'https://hh.ru/vacancy/69733029?query=%D0%B0%D0%BD%D0%B0%D0%BB%D0%B8%D1%82%D0%B8%D0%BA%20%D0%B4%D0%B0%D0%BD%D0%BD%D1%8B%D1%85'}\n",
            "{'_id': ObjectId('632090a9eb05959038e172da'),\n",
            " 'валюта': 'руб.',\n",
            " 'должность': 'Аналитик SQL',\n",
            " 'максимальная зарплата': 200000,\n",
            " 'минимальная зарплата': 150000,\n",
            " 'сайт': 'hh.ru',\n",
            " 'ссылка на вакансию': 'https://hh.ru/vacancy/67711496?query=%D0%B0%D0%BD%D0%B0%D0%BB%D0%B8%D1%82%D0%B8%D0%BA%20%D0%B4%D0%B0%D0%BD%D0%BD%D1%8B%D1%85'}\n",
            "{'_id': ObjectId('632090a9eb05959038e172de'),\n",
            " 'валюта': 'руб.',\n",
            " 'должность': 'Аналитик',\n",
            " 'максимальная зарплата': 60000,\n",
            " 'минимальная зарплата': 60000,\n",
            " 'сайт': 'hh.ru',\n",
            " 'ссылка на вакансию': 'https://hh.ru/vacancy/69726674?query=%D0%B0%D0%BD%D0%B0%D0%BB%D0%B8%D1%82%D0%B8%D0%BA%20%D0%B4%D0%B0%D0%BD%D0%BD%D1%8B%D1%85'}\n",
            "{'_id': ObjectId('632090a9eb05959038e172df'),\n",
            " 'валюта': 'руб.',\n",
            " 'должность': 'Аналитик (проектов) с опытом визуализации данных',\n",
            " 'максимальная зарплата': 200000,\n",
            " 'минимальная зарплата': 100000,\n",
            " 'сайт': 'hh.ru',\n",
            " 'ссылка на вакансию': 'https://hh.ru/vacancy/69757049?query=%D0%B0%D0%BD%D0%B0%D0%BB%D0%B8%D1%82%D0%B8%D0%BA%20%D0%B4%D0%B0%D0%BD%D0%BD%D1%8B%D1%85'}\n",
            "{'_id': ObjectId('632090a9eb05959038e172e1'),\n",
            " 'валюта': 'руб.',\n",
            " 'должность': 'Аналитик SQL',\n",
            " 'максимальная зарплата': 120000,\n",
            " 'минимальная зарплата': 80000,\n",
            " 'сайт': 'hh.ru',\n",
            " 'ссылка на вакансию': 'https://hh.ru/vacancy/67697025?query=%D0%B0%D0%BD%D0%B0%D0%BB%D0%B8%D1%82%D0%B8%D0%BA%20%D0%B4%D0%B0%D0%BD%D0%BD%D1%8B%D1%85'}\n",
            "{'_id': ObjectId('632090a9eb05959038e172ea'),\n",
            " 'валюта': 'руб.',\n",
            " 'должность': 'Ассистент аналитика',\n",
            " 'максимальная зарплата': 40000,\n",
            " 'минимальная зарплата': 40000,\n",
            " 'сайт': 'hh.ru',\n",
            " 'ссылка на вакансию': 'https://hh.ru/vacancy/69710818?query=%D0%B0%D0%BD%D0%B0%D0%BB%D0%B8%D1%82%D0%B8%D0%BA%20%D0%B4%D0%B0%D0%BD%D0%BD%D1%8B%D1%85'}\n"
          ]
        }
      ]
    },
    {
      "cell_type": "markdown",
      "source": [
        "###Выведем вакансии, в названии которых присутствует слово \"Ведущий\"."
      ],
      "metadata": {
        "id": "PaIRozabFbYb"
      }
    },
    {
      "cell_type": "code",
      "source": [
        "for doc in my_db.vacancies.find({ 'должность': { \"$regex\": 'Ведущий'} }):\n",
        "  pprint(doc)"
      ],
      "metadata": {
        "id": "t_-ld8g3BB1U",
        "colab": {
          "base_uri": "https://localhost:8080/"
        },
        "outputId": "c1095086-925c-4946-a301-71c88b6f5d90"
      },
      "execution_count": 32,
      "outputs": [
        {
          "output_type": "stream",
          "name": "stdout",
          "text": [
            "{'_id': ObjectId('63209047eb05959038e17258'),\n",
            " 'валюта': 'руб.',\n",
            " 'должность': 'Ведущий аналитик',\n",
            " 'максимальная зарплата': 500000,\n",
            " 'минимальная зарплата': 250000,\n",
            " 'сайт': 'hh.ru',\n",
            " 'ссылка на вакансию': 'https://hh.ru/vacancy/67702365?query=%D0%B0%D0%BD%D0%B0%D0%BB%D0%B8%D1%82%D0%B8%D0%BA%20%D0%B4%D0%B0%D0%BD%D0%BD%D1%8B%D1%85'}\n",
            "{'_id': ObjectId('63209047eb05959038e17259'),\n",
            " 'валюта': 'руб.',\n",
            " 'должность': 'Ведущий аналитик данных (Департамент закупок)',\n",
            " 'максимальная зарплата': 300000,\n",
            " 'минимальная зарплата': None,\n",
            " 'сайт': 'hh.ru',\n",
            " 'ссылка на вакансию': 'https://hh.ru/vacancy/49495729?query=%D0%B0%D0%BD%D0%B0%D0%BB%D0%B8%D1%82%D0%B8%D0%BA%20%D0%B4%D0%B0%D0%BD%D0%BD%D1%8B%D1%85'}\n",
            "{'_id': ObjectId('63209047eb05959038e1728a'),\n",
            " 'валюта': 'руб.',\n",
            " 'должность': 'Ведущий аналитик',\n",
            " 'максимальная зарплата': 500000,\n",
            " 'минимальная зарплата': 250000,\n",
            " 'сайт': 'hh.ru',\n",
            " 'ссылка на вакансию': 'https://hh.ru/vacancy/67702365?query=%D0%B0%D0%BD%D0%B0%D0%BB%D0%B8%D1%82%D0%B8%D0%BA%20%D0%B4%D0%B0%D0%BD%D0%BD%D1%8B%D1%85'}\n",
            "{'_id': ObjectId('63209047eb05959038e1728b'),\n",
            " 'валюта': 'руб.',\n",
            " 'должность': 'Ведущий аналитик данных (Департамент закупок)',\n",
            " 'максимальная зарплата': 300000,\n",
            " 'минимальная зарплата': None,\n",
            " 'сайт': 'hh.ru',\n",
            " 'ссылка на вакансию': 'https://hh.ru/vacancy/49495729?query=%D0%B0%D0%BD%D0%B0%D0%BB%D0%B8%D1%82%D0%B8%D0%BA%20%D0%B4%D0%B0%D0%BD%D0%BD%D1%8B%D1%85'}\n",
            "{'_id': ObjectId('632090a9eb05959038e172d3'),\n",
            " 'валюта': None,\n",
            " 'должность': 'Ведущий аналитик DWH (BI)',\n",
            " 'максимальная зарплата': None,\n",
            " 'минимальная зарплата': None,\n",
            " 'сайт': 'hh.ru',\n",
            " 'ссылка на вакансию': 'https://hh.ru/vacancy/69770528?query=%D0%B0%D0%BD%D0%B0%D0%BB%D0%B8%D1%82%D0%B8%D0%BA%20%D0%B4%D0%B0%D0%BD%D0%BD%D1%8B%D1%85'}\n"
          ]
        }
      ]
    }
  ]
}